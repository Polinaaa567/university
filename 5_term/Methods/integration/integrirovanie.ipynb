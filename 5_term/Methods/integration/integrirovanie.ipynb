{
  "nbformat": 4,
  "nbformat_minor": 0,
  "metadata": {
    "colab": {
      "provenance": [],
      "authorship_tag": "ABX9TyNdCru+zmUP3hrrFKPrWjVv"
    },
    "kernelspec": {
      "name": "python3",
      "display_name": "Python 3"
    },
    "language_info": {
      "name": "python"
    }
  },
  "cells": [
    {
      "cell_type": "code",
      "execution_count": 124,
      "metadata": {
        "id": "HbIgF4-9U7C7"
      },
      "outputs": [],
      "source": [
        "# f(x)= (x/2 +1)*sin(x/2) a=1, b=2"
      ]
    },
    {
      "cell_type": "code",
      "source": [
        "from math import sin, cos\n",
        "import sympy as sp\n",
        "import numpy as np"
      ],
      "metadata": {
        "id": "S5e-WYc5ovc8"
      },
      "execution_count": 125,
      "outputs": []
    },
    {
      "cell_type": "code",
      "source": [
        "def f(x):\n",
        "  result = (x/2 + 1) * sin(x/2)\n",
        "  return result\n",
        "\n",
        "\n",
        "a, b = 1, 2"
      ],
      "metadata": {
        "id": "VBN_9DcuotRK"
      },
      "execution_count": 156,
      "outputs": []
    },
    {
      "cell_type": "markdown",
      "source": [
        "f(x) = (x/2 + 1) * sin(x/2)\n",
        "\n",
        "f'(x) = (cos(x/2)*x)/4+(sin(x/2))/2+(cos(x/2))/2\n",
        "\n",
        "f''(x) = -(sin(x/2)*x)/8-(sin(x/2))/4+(cos(x/2))/2\n",
        "\n",
        "f'''(x) = -(cos(x/2)*x)/16-(3*sin(x/2))/8-(cos(x/2))/8\n",
        "\n",
        "f''''(x) = (sin(x/2)*x)/32+(sin(x/2))/16-(cos(x/2))/4"
      ],
      "metadata": {
        "id": "ewTxRi2bw7Av"
      }
    },
    {
      "cell_type": "markdown",
      "source": [
        "# Симпсон"
      ],
      "metadata": {
        "id": "QPUVPFIDr30h"
      }
    },
    {
      "cell_type": "code",
      "source": [
        "def dif4(x):\n",
        "    return(sin(x / 2) * x) / 32 + (sin(x / 2)) / 16 - (cos(x / 2)) / 4\n",
        "\n",
        "\n",
        "def g_max4():\n",
        "  x_list = []\n",
        "  for i in x:\n",
        "    x_list.append(abs(dif4(i)))\n",
        "  return np.max(x_list)\n"
      ],
      "metadata": {
        "id": "gYvB4KlDo1B1"
      },
      "execution_count": 127,
      "outputs": []
    },
    {
      "cell_type": "code",
      "source": [
        "def simpson(y):\n",
        "  result = y[0] + y[-1]\n",
        "\n",
        "  for i in range(1, len(y) - 1):\n",
        "    if(i % 2 == 0): # чётные\n",
        "      result += 2 * y[i]\n",
        "    else:\n",
        "      result += 4 * y[i]\n",
        "  result *= h/3\n",
        "  return result\n",
        "\n",
        "\n",
        "print(f'f(x) = (x/2 +1)*sin(x/2)\\n\\na={a}, b={b}\\n')\n",
        "n = int(input('n должно быть чётным\\n\\nn = '))\n",
        "\n",
        "h = (b-a) / n\n",
        "\n",
        "k = a\n",
        "x = [a]\n",
        "for i in range(1, n):\n",
        " k += h\n",
        " x.append(k)\n",
        "x.append(b)\n",
        "\n",
        "y_result = [f(i) for i in x]\n",
        "\n",
        "if (n % 2 == 0):\n",
        "  result_simpson = simpson(y_result)\n",
        "  ost = -(b - a) / 180 * g_max4() * (h**4)\n",
        "  print('---------------------------------------------')\n",
        "  print('\\nСимпсон\\n\\ny =', result_simpson, '\\n\\nR(h) =', ost)\n",
        "\n",
        "else:\n",
        "  print('\\nn ДОЛЖНО БЫТЬ ЧЁТНЫМ')\n"
      ],
      "metadata": {
        "colab": {
          "base_uri": "https://localhost:8080/"
        },
        "id": "xq4m1Xrku5q0",
        "outputId": "1b5d75a3-e3b6-4029-8895-aa2462dfd405"
      },
      "execution_count": 158,
      "outputs": [
        {
          "output_type": "stream",
          "name": "stdout",
          "text": [
            "f(x) = (x/2 +1)*sin(x/2)\n",
            "\n",
            "a=1, b=2\n",
            "\n",
            "n должно быть чётным\n",
            "\n",
            "n = 8\n",
            "---------------------------------------------\n",
            "\n",
            "Симпсон\n",
            "\n",
            "y = 1.1956292103087125 \n",
            "\n",
            "R(h) = -2.3661227244527067e-07\n"
          ]
        }
      ]
    },
    {
      "cell_type": "markdown",
      "source": [
        "# Трапеция"
      ],
      "metadata": {
        "id": "N8RQo-Pyr9S_"
      }
    },
    {
      "cell_type": "code",
      "source": [
        "def dif2(x):\n",
        "  return -(sin(x/2)*x)/8-(sin(x/2))/4+(cos(x/2))/2\n",
        "\n",
        "\n",
        "def g_max2():\n",
        "  x_list = []\n",
        "  for i in x:\n",
        "    x_list.append(abs(dif2(i)))\n",
        "  return np.max(x_list)\n",
        "\n"
      ],
      "metadata": {
        "id": "xXTbqthcr1WF"
      },
      "execution_count": 129,
      "outputs": []
    },
    {
      "cell_type": "code",
      "source": [
        "def trapecia(y):\n",
        "  result = (y[0] + y[-1])/2\n",
        "\n",
        "  for i in range(1, len(y) - 1):\n",
        "    result += y[i]\n",
        "  result *= h\n",
        "  return result\n",
        "\n",
        "\n",
        "a, b = 1, 2\n",
        "\n",
        "print('f(x) = (x/2 +1)*sin(x/2)\\n\\na=1, b=2\\n')\n",
        "n = int(input('Введите n = '))\n",
        "\n",
        "h = (b - a) / n\n",
        "\n",
        "k = a\n",
        "x = [a]\n",
        "for i in range(1, n):\n",
        " k += h\n",
        " x.append(k)\n",
        "x.append(b)\n",
        "\n",
        "y_result = [f(i) for i in x]\n",
        "\n",
        "result_trapecia = trapecia(y_result)\n",
        "ost = -(b - a) / 12 * g_max2() * (h**2)\n",
        "\n",
        "print('---------------------------------------------')\n",
        "print('\\nТрапеция\\n\\ny =', result_trapecia, '\\n\\nR(h) =', ost)\n"
      ],
      "metadata": {
        "colab": {
          "base_uri": "https://localhost:8080/"
        },
        "id": "1xNPp7NLzYtk",
        "outputId": "5dad1e0d-4762-4f85-e178-f6fe0cb2ff06"
      },
      "execution_count": 130,
      "outputs": [
        {
          "output_type": "stream",
          "name": "stdout",
          "text": [
            "f(x) = (x/2 +1)*sin(x/2)\n",
            "\n",
            "a=1, b=2\n",
            "\n",
            "Введите n = 7\n",
            "---------------------------------------------\n",
            "\n",
            "Трапеция\n",
            "\n",
            "y = 1.1957367938419148 \n",
            "\n",
            "R(h) = -0.0004404875917833507\n"
          ]
        }
      ]
    },
    {
      "cell_type": "markdown",
      "source": [
        "# 3/8"
      ],
      "metadata": {
        "id": "4nOJhapvsAqr"
      }
    },
    {
      "cell_type": "code",
      "source": [
        "def three_eighths(y):\n",
        "  result = y[0] + y[-1]\n",
        "\n",
        "  for i in range(1, len(y) - 1):\n",
        "    if(i % 3 != 0): # не кратны 3\n",
        "      result += 3 * y[i]\n",
        "    else:\n",
        "      result += 2 * y[i]\n",
        "  result *= 3 * h / 8\n",
        "  return result\n",
        "\n",
        "\n",
        "a, b = 1, 2\n",
        "\n",
        "print('f(x) = (x/2 +1)*sin(x/2)\\n\\na=1, b=2\\n')\n",
        "n = int(input('n должно быть кратно трём\\n\\nn = '))\n",
        "\n",
        "h = (b-a) / n\n",
        "\n",
        "k = a\n",
        "x = [a]\n",
        "for i in range(1, n):\n",
        " k += h\n",
        " x.append(k)\n",
        "x.append(b)\n",
        "\n",
        "y_result = [f(i) for i in x]\n",
        "\n",
        "if (n % 3 == 0):\n",
        "  result_three_eighths = three_eighths(y_result)\n",
        "  ost = -(b - a) / 80 * g_max4() * (h**4)\n",
        "  print('---------------------------------------------')\n",
        "  print('\\n3/8\\n\\ny =', result_three_eighths, '\\n\\nR(h) =', ost)\n",
        "\n",
        "else:\n",
        "  print('\\nn ДОЛЖНО БЫТЬ КРАТНО ТРЁМ')"
      ],
      "metadata": {
        "colab": {
          "base_uri": "https://localhost:8080/"
        },
        "id": "HeG0InJLsJNX",
        "outputId": "ba015523-b8db-47d3-a992-45efd9fca0a1"
      },
      "execution_count": 131,
      "outputs": [
        {
          "output_type": "stream",
          "name": "stdout",
          "text": [
            "f(x) = (x/2 +1)*sin(x/2)\n",
            "\n",
            "a=1, b=2\n",
            "\n",
            "n должно быть кратно трём\n",
            "\n",
            "n = 9\n",
            "---------------------------------------------\n",
            "\n",
            "3/8\n",
            "\n",
            "y = 1.1956291518154742 \n",
            "\n",
            "R(h) = -3.323607228860866e-07\n"
          ]
        }
      ]
    },
    {
      "cell_type": "markdown",
      "source": [
        "# Гаусс"
      ],
      "metadata": {
        "id": "4f--NC195R2P"
      }
    },
    {
      "cell_type": "code",
      "source": [
        "def gauss():\n",
        "  result = 0\n",
        "\n",
        "  for i in range(n):\n",
        "    result += A[i] * y_result[i]\n",
        "  result *= (b-a)/2\n",
        "  return result\n",
        "\n",
        "a, b = 1, 2\n",
        "print('f(x) = (x/2 +1)*sin(x/2)\\n\\na=1, b=2\\n')\n",
        "n = int(input('n должно быть или 4, или 5, или 7\\n\\nn = '))\n",
        "\n",
        "if n == 4:\n",
        "  t1, t4 = -0.86113631, 0.86113631\n",
        "  t2, t3 = -0.33998104, 0.33998104\n",
        "  t = [t1, t2, t3, t4]\n",
        "\n",
        "  A1, A4 = 0.34785484\n",
        "  A2, A3 = 0.65214516\n",
        "  A = [A1, A2, A3, A4]\n",
        "\n",
        "elif n == 5:\n",
        "  t1, t5 = -0.90617985, 0.90617985\n",
        "  t2, t4 = -0.53846931, 0.53846931\n",
        "  t3 = 0\n",
        "  t = [t1, t2, t3, t4, t5]\n",
        "\n",
        "  A1 = A5 = 0.23692688\n",
        "  A2 = A4 = 0.47862868\n",
        "  A3 = 0.56888889\n",
        "  A = [A1, A2, A3, A4, A5]\n",
        "\n",
        "\n",
        "elif n == 7:\n",
        "  t1, t7 = -0.94910791, 0.94910791\n",
        "  t2, t6 = -0.74153119, 0.74153119\n",
        "  t3, t5 = -0.40584515, 0.40584515\n",
        "  t4 = 0\n",
        "  t = [t1, t2, t3, t4, t5, t6, t7]\n",
        "\n",
        "  A1 = A7 = 0.12948496\n",
        "  A2 = A6 = 0.27970540\n",
        "  A3 = A5 = 0.38183006\n",
        "  A4 = 0.41795918\n",
        "  A = [A1, A2, A3, A4, A5, A6, A7]\n",
        "\n",
        "print(t, A, sep='\\n')\n",
        "\n",
        "x = []\n",
        "for i in range(n):\n",
        "  xi = (b + a) / 2 + ((b - a) / 2) * t[i]\n",
        "  x.append(xi)\n",
        "\n",
        "y_result = [f(i) for i in x]\n",
        "\n",
        "result_gauss = gauss()\n",
        "print('---------------------------------------------')\n",
        "print('\\nГаусс\\n\\ny =', result_gauss)\n"
      ],
      "metadata": {
        "colab": {
          "base_uri": "https://localhost:8080/"
        },
        "id": "Gs9q8xzQ5VLc",
        "outputId": "5bf580c7-cf30-4f90-dbb1-66c9a224f04e"
      },
      "execution_count": 132,
      "outputs": [
        {
          "output_type": "stream",
          "name": "stdout",
          "text": [
            "f(x) = (x/2 +1)*sin(x/2)\n",
            "\n",
            "a=1, b=2\n",
            "\n",
            "n должно быть или 4, или 5, или 7\n",
            "\n",
            "n = 5\n",
            "[-0.90617985, -0.53846931, 0, 0.53846931, 0.90617985]\n",
            "[0.23692688, 0.47862868, 0.56888889, 0.47862868, 0.23692688]\n",
            "---------------------------------------------\n",
            "\n",
            "Гаусс\n",
            "\n",
            "y = 1.1956293605726915\n"
          ]
        }
      ]
    },
    {
      "cell_type": "markdown",
      "source": [
        "# с точностью"
      ],
      "metadata": {
        "id": "fXcZ9B50sStT"
      }
    },
    {
      "cell_type": "code",
      "source": [
        "n = 10\n",
        "h = (b - a) / n\n",
        "\n",
        "k = a\n",
        "x = [a]\n",
        "for i in range(1, n):\n",
        "\tk += h\n",
        "\tx.append(k)\n",
        "x.append(b)\n",
        "\n",
        "y_result = [f(i) for i in x]\n",
        "trapecia_result1 = trapecia(y_result)\n",
        "\n",
        "print(f'\\nn = {n}\\nзначение интеграла = {trapecia_result1}')\n",
        "\n",
        "n *= 2\n",
        "h = (b - a) / n\n",
        "\n",
        "k = a\n",
        "x = [a]\n",
        "for i in range(1, n):\n",
        "\tk += h\n",
        "\tx.append(k)\n",
        "x.append(b)\n",
        "\n",
        "y_result = [f(i) for i in x]\n",
        "trapecia_result_double = trapecia(y_result)\n",
        "\n",
        "print(f'\\nn = {n}\\nзначение интеграла = {trapecia_result_double}')\n",
        "\n",
        "print('\\n\\n---------------------------- \\n\\n')\n",
        "\n",
        "epsilon = 1e-5\n",
        "print(epsilon)\n",
        "\n",
        "n = int(n / 2)\n",
        "\n",
        "print(abs(trapecia_result_double - trapecia_result1), '\\n')\n",
        "\n",
        "while abs(trapecia_result1 - trapecia_result_double) >= epsilon:\n",
        "    print(abs(trapecia_result_double - trapecia_result1))\n",
        "    n += 1\n",
        "    h = (b - a) / n\n",
        "\n",
        "    k = a\n",
        "    x = [a]\n",
        "    for i in range(1, n):\n",
        "        k += h\n",
        "        x.append(k)\n",
        "    x.append(b)\n",
        "    y_result = [f(i) for i in x]\n",
        "    trapecia_result1 = trapecia(y_result)\n",
        "\n",
        "    n *= 2\n",
        "    h = (b - a) / n\n",
        "\n",
        "    k = a\n",
        "    x = [a]\n",
        "    for i in range(1, n):\n",
        "        k += h\n",
        "        x.append(k)\n",
        "    x.append(b)\n",
        "\n",
        "    y_result = [f(i) for i in x]\n",
        "    trapecia_result_double = trapecia(y_result)\n",
        "\n",
        "    n = int(n / 2)\n",
        "\n",
        "print('\\n', abs(trapecia_result_double - trapecia_result1), '\\n')\n",
        "print(\n",
        "    f'----------------------------\\n\\nn = {n}\\nпри обычном шаге результат = {trapecia_result1}\\n\\n'\n",
        "    f'n = {2 * n}\\nпри удвоение числа шагов: {trapecia_result_double}')\n"
      ],
      "metadata": {
        "colab": {
          "base_uri": "https://localhost:8080/"
        },
        "id": "Vpsv2d-INDl-",
        "outputId": "abbcf688-fe5b-47d6-f2ae-d09cf8e65151"
      },
      "execution_count": 175,
      "outputs": [
        {
          "output_type": "stream",
          "name": "stdout",
          "text": [
            "\n",
            "n = 10\n",
            "значение интеграла = 1.1956819844605187\n",
            "\n",
            "n = 20\n",
            "значение интеграла = 1.1956425093010863\n",
            "\n",
            "\n",
            "---------------------------- \n",
            "\n",
            "\n",
            "1e-05\n",
            "3.9475159432367235e-05 \n",
            "\n",
            "3.9475159432367235e-05\n",
            "3.2622113086855364e-05\n",
            "2.7410367726243834e-05\n",
            "2.335473815917588e-05\n",
            "2.0136928147840294e-05\n",
            "1.7541097295570296e-05\n",
            "1.5416689044700504e-05\n",
            "1.3656092233915729e-05\n",
            "1.2180737399170027e-05\n",
            "1.093217487579956e-05\n",
            "\n",
            " 9.866194370600212e-06 \n",
            "\n",
            "----------------------------\n",
            "\n",
            "n = 20\n",
            "при обычном шаге результат = 1.1956425093010863\n",
            "\n",
            "n = 40\n",
            "при удвоение числа шагов: 1.1956326431067157\n"
          ]
        }
      ]
    }
  ]
}