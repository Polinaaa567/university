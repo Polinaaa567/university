{
  "nbformat": 4,
  "nbformat_minor": 0,
  "metadata": {
    "colab": {
      "provenance": [],
      "authorship_tag": "ABX9TyPpzdm67UNgtg8luMcG1ZFi"
    },
    "kernelspec": {
      "name": "python3",
      "display_name": "Python 3"
    },
    "language_info": {
      "name": "python"
    }
  },
  "cells": [
    {
      "cell_type": "markdown",
      "source": [
        "Выполните задания из файла https://cloud.mail.ru/public/qDbR/69k4MLzjg."
      ],
      "metadata": {
        "id": "r_17jkkL7vao"
      }
    },
    {
      "cell_type": "markdown",
      "source": [
        "1) Установим необходимые библиотеки и вызовем их:"
      ],
      "metadata": {
        "id": "XWwfh0In775r"
      }
    },
    {
      "cell_type": "code",
      "source": [
        "import math\n",
        "import statistics\n",
        "import numpy as np\n",
        "import scipy.stats\n",
        "import pandas as pd"
      ],
      "metadata": {
        "id": "L12swISjxMFo"
      },
      "execution_count": null,
      "outputs": []
    },
    {
      "cell_type": "markdown",
      "source": [
        "2) Создадим списки x и x_with_nan:"
      ],
      "metadata": {
        "id": "58LIroh07_AC"
      }
    },
    {
      "cell_type": "code",
      "source": [
        "x = [10.0, 2, 2.5, 5, 26.0]\n",
        "x_with_nan = [10.0, 2, 2.5, math.nan, 5, 26.0]\n",
        "\n",
        "print(f'Вывод исходных данных, которые содержатся в x:{x}')\n",
        "print(f'Вывод исходных данных, которые содержатся в x_with_nan:{x_with_nan}')"
      ],
      "metadata": {
        "colab": {
          "base_uri": "https://localhost:8080/"
        },
        "id": "zQ7ygNn_77Tp",
        "outputId": "05048635-9949-432b-ff70-abecf4a8ff9e"
      },
      "execution_count": null,
      "outputs": [
        {
          "output_type": "stream",
          "name": "stdout",
          "text": [
            "Вывод исходных данных, которые содержатся в x:[10.0, 2, 2.5, 5, 26.0]\n",
            "Вывод исходных данных, которые содержатся в x_with_nan:[10.0, 2, 2.5, nan, 5, 26.0]\n"
          ]
        }
      ]
    },
    {
      "cell_type": "markdown",
      "source": [
        "3) Создадим объекты np.ndarray и pd.Series, соответствующие x и\n",
        "x_with_nan:\n"
      ],
      "metadata": {
        "id": "rYl9bypk8Ius"
      }
    },
    {
      "cell_type": "code",
      "source": [
        "y, y_with_nan = np.array(x), np.array(x_with_nan)\n",
        "z, z_with_nan = pd.Series(x), pd.Series(x_with_nan)\n",
        "\n",
        "print(f'Вывод данных, которые содержатся в y и y_with_nan:{y}, {y_with_nan}')\n",
        "print(f'Вывод данных, которые содержатся в z и в z_with_nan: {z}, {z_with_nan}')\n"
      ],
      "metadata": {
        "colab": {
          "base_uri": "https://localhost:8080/"
        },
        "id": "W12fhxV9xUKj",
        "outputId": "a70bc9bc-4b09-4c7f-b953-0ec095246c85"
      },
      "execution_count": null,
      "outputs": [
        {
          "output_type": "stream",
          "name": "stdout",
          "text": [
            "Вывод данных, которые содержатся в y и y_with_nan:[10.   2.   2.5  5.  26. ], [10.   2.   2.5  nan  5.  26. ]\n",
            "Вывод данных, которые содержатся в z и в z_with_nan: 0    10.0\n",
            "1     2.0\n",
            "2     2.5\n",
            "3     5.0\n",
            "4    26.0\n",
            "dtype: float64, 0    10.0\n",
            "1     2.0\n",
            "2     2.5\n",
            "3     NaN\n",
            "4     5.0\n",
            "5    26.0\n",
            "dtype: float64\n"
          ]
        }
      ]
    },
    {
      "cell_type": "markdown",
      "source": [
        "4) После формирования исходных данных, приступаем к расчету\n",
        "центральной метрики, а именно среднего значения:"
      ],
      "metadata": {
        "id": "POPqfNMj8QJX"
      }
    },
    {
      "cell_type": "code",
      "source": [
        "# Расчет средних значений\n",
        "\n",
        "mean_1 = sum(x) / len(x)\n",
        "print(f'Расчет среднего значения, используя sum и len: {mean_1}')\n",
        "\n",
        "mean_2 = statistics.mean(x)\n",
        "print(f'Расчет среднего значения, используя встроенные функции статистики Python (statistics.mean(x)): {mean_2}')\n",
        "\n",
        "mean_3 = statistics.mean(x)\n",
        "print(f'Расчет среднего значения, используя встроенные функции статистики Python (statistics.fmean(x)): {mean_3}')\n",
        "\n",
        "mean_4 = statistics.mean(x_with_nan)\n",
        "print(f'Расчет среднего значения, который содержит значения nan, используя встроенные функции статистики Python (statistics.mean(x)): {mean_4}')\n",
        "\n",
        "mean_5 = np.mean(y)\n",
        "print(f'Расчет среднего значения, используя NumPy: {mean_5}')\n",
        "\n",
        "np.nanmean(y_with_nan)\n",
        "print(f'Расчет среднего значения с помощью NumPy, игнорируя nan: {np.nanmean(y_with_nan)}')\n",
        "\n",
        "mean_6 = z.mean()\n",
        "print(f'Расчет среднего значения объекта pd.Series: {mean_6}')"
      ],
      "metadata": {
        "colab": {
          "base_uri": "https://localhost:8080/"
        },
        "id": "vU8XvYi1xY3A",
        "outputId": "d477b2aa-9e5b-4cb0-cba0-7360725dca88"
      },
      "execution_count": null,
      "outputs": [
        {
          "output_type": "stream",
          "name": "stdout",
          "text": [
            "Расчет среднего значения, используя sum и len: 9.1\n",
            "Расчет среднего значения, используя встроенные функции статистики Python (statistics.mean(x)): 9.1\n",
            "Расчет среднего значения, используя встроенные функции статистики Python (statistics.fmean(x)): 9.1\n",
            "Расчет среднего значения, который содержит значения nan, используя встроенные функции статистики Python (statistics.mean(x)): nan\n",
            "Расчет среднего значения, используя NumPy: 9.1\n",
            "Расчет среднего значения с помощью NumPy, игнорируя nan: 9.1\n",
            "Расчет среднего значения объекта pd.Series: 9.1\n"
          ]
        }
      ]
    },
    {
      "cell_type": "markdown",
      "source": [
        "5) Рассчитаем средневзвешенное значение. Средневзвешенное или также\n",
        "называемое средневзвешенным арифметическим или средневзвешенным\n",
        "значением, является обобщением среднего арифметического, которое позволяет\n",
        "вам определить относительный вклад каждой точки данных в результат:\n"
      ],
      "metadata": {
        "id": "8W2jpNQN8RlG"
      }
    },
    {
      "cell_type": "code",
      "source": [
        "# Расчет средневзвешанных значений\n",
        "\n",
        "x = [6.0, 1, 2.5, 6, 25.0]\n",
        "w = [0.1, 0.2, 0.3, 0.25, 0.15]\n",
        "\n",
        "wmean = sum(w[i] * x[i] for i in range(len(x))) / sum(w)\n",
        "print(f'Расчет средневзвешанного с помощью range: {wmean}')\n",
        "\n",
        "wmean2 = sum(x_ * w_ for (x_, w_) in zip(x, w)) / sum(w)\n",
        "print(f'Расчет средневзвешанного с помощью zip: {wmean2}')\n",
        "\n",
        "y, z, w = np.array(x), pd.Series(x), np.array(w)\n",
        "\n",
        "wmean3= np.average(y, weights=w)\n",
        "print(f'Расчет средневзвешанного с помощью np.average для массивово NumPy или серии Pandas: {wmean3}')\n",
        "\n",
        "o = (w * y).sum() / w.sum()\n",
        "print(f'Расчет средневзвешанного с помощью поэлементного умножения w * y: {o}')\n",
        "\n",
        "w = np.array([0.1, 0.2, 0.3, 0.0, 0.2, 0.1])\n",
        "print(f'Расчет средневзвешанного для набора, который содержит nan : {(w * y_with_nan).sum() / w.sum()}')\n"
      ],
      "metadata": {
        "colab": {
          "base_uri": "https://localhost:8080/"
        },
        "id": "yGtFmhPbxicr",
        "outputId": "51e5cda4-d211-48f6-bde7-9333d18c8e09"
      },
      "execution_count": null,
      "outputs": [
        {
          "output_type": "stream",
          "name": "stdout",
          "text": [
            "Расчет средневзвешанного с помощью range: 6.8\n",
            "Расчет средневзвешанного с помощью zip: 6.8\n",
            "Расчет средневзвешанного с помощью np.average для массивово NumPy или серии Pandas: 6.8\n",
            "Расчет средневзвешанного с помощью поэлементного умножения w * y: 6.8\n",
            "Расчет средневзвешанного для набора, который содержит nan : nan\n"
          ]
        }
      ]
    },
    {
      "cell_type": "markdown",
      "source": [
        "6) Рассчитаем гармоническое среднее, что есть обратная величина от\n",
        "среднего значения обратных величин всех элементов в наборе данных:"
      ],
      "metadata": {
        "id": "kcDODOwD8WuK"
      }
    },
    {
      "cell_type": "code",
      "source": [
        "# Гармоническое среднее\n",
        "hmean = len(x) / sum(1 / item for item in x)\n",
        "print(f'Расчет гармонического среднего: {hmean}')\n",
        "\n",
        "hmean2 = statistics.harmonic_mean(x)\n",
        "print(f'Расчет гармонического среднего с помощью statistics.harmonic_mean(): {hmean2}')\n",
        "\n",
        "statistics.harmonic_mean(x_with_nan)\n",
        "print(f'Расчет гармонического среднего, где есть nan: {statistics.harmonic_mean(x_with_nan)}')\n",
        "\n",
        "statistics.harmonic_mean([1, 0, 2])\n",
        "print(f'Расчет гармонического среднего, где есть 0: {statistics.harmonic_mean([1, 0, 2])}')\n",
        "\n",
        "scipy.stats.hmean(y)\n",
        "print(f'Расчет гармонического среднего с помощью scipy.stats.hmean(): {scipy.stats.hmean(y)}')\n"
      ],
      "metadata": {
        "colab": {
          "base_uri": "https://localhost:8080/"
        },
        "id": "tC1WZDdTx9rg",
        "outputId": "86de16d0-d358-4321-bc99-8d44cf949849"
      },
      "execution_count": null,
      "outputs": [
        {
          "output_type": "stream",
          "name": "stdout",
          "text": [
            "Расчет гармонического среднего: 2.8195488721804507\n",
            "Расчет гармонического среднего с помощью statistics.harmonic_mean(): 2.819548872180451\n",
            "Расчет гармонического среднего, где есть nan: nan\n",
            "Расчет гармонического среднего, где есть 0: 0\n",
            "Расчет гармонического среднего с помощью scipy.stats.hmean(): 2.8195488721804507\n"
          ]
        }
      ]
    },
    {
      "cell_type": "markdown",
      "source": [
        "7) Рассчитаем среднее геометрическое:"
      ],
      "metadata": {
        "id": "zmc7qVwk8aen"
      }
    },
    {
      "cell_type": "code",
      "source": [
        "# Среднее геометрическое\n",
        "gmean = 1\n",
        "\n",
        "for item in x:\n",
        "    gmean *= item\n",
        "    gmean **= 1 / len(x)\n",
        "\n",
        "print(f'Вычисление геометрического среднего: {gmean}')\n",
        "gmean2 = statistics.geometric_mean(x)\n",
        "print(f'Вычисление геометрического среднего с помощью statistics.geometric_mean(): {gmean2}')\n",
        "gmean3 = statistics.geometric_mean(x_with_nan)\n",
        "print(f'Вычисление геометрического среднего где есть nan: {gmean3}')\n",
        "\n",
        "scipy.stats.gmean(y)\n",
        "print(f'Вычисление геометрического среднего с помощью scipy.stats.gmean(): {scipy.stats.gmean(y)}')\n"
      ],
      "metadata": {
        "colab": {
          "base_uri": "https://localhost:8080/"
        },
        "id": "4b8jRFwJyMBa",
        "outputId": "b69328d8-2d97-48e0-dbdf-811b725e7636"
      },
      "execution_count": null,
      "outputs": [
        {
          "output_type": "stream",
          "name": "stdout",
          "text": [
            "Вычисление геометрического среднего: 2.0613255209172676\n",
            "Вычисление геометрического среднего с помощью statistics.geometric_mean(): 4.682054920046206\n",
            "Вычисление геометрического среднего где есть nan: nan\n",
            "Вычисление геометрического среднего с помощью scipy.stats.gmean(): 4.682054920046206\n"
          ]
        }
      ]
    },
    {
      "cell_type": "markdown",
      "source": [
        "8) Медиана – это средний элемент отсортированного набора данных.\n",
        "Расчет медианы представлен в следующем программном коде:"
      ],
      "metadata": {
        "id": "BRMNUzCl8fOZ"
      }
    },
    {
      "cell_type": "code",
      "source": [
        "n = len(x)\n",
        "\n",
        "if n % 2:\n",
        "  median_ = sorted(x)[round(0.5*(n-1))]\n",
        "else:\n",
        "  x_ord, index = sorted(x), round(0.5 * n)\n",
        "  median_ = 0.5 * (x_ord[index-1] + x_ord[index])\n",
        "print(f'Расчет медианы: {median_}')\n",
        "\n",
        "median_2 = statistics.median(x)\n",
        "print(f'Расчет медианы с помощью statistics.median(): {median_2}')\n",
        "\n",
        "statistics.median_low(x[:-1])\n",
        "print(f'Расчет медианы с помощью statistics.median_low: {statistics.median_low(x[:-1])}')\n",
        "\n",
        "statistics.median_high(x[:-1])\n",
        "print(f'Расчет медианы с помощью statistics.median_high {statistics.median_high(x[:-1])}')\n",
        "\n",
        "median_2 = np.median(y)\n",
        "print(f'Расчет медианы с помощью np.median: {median_2}')\n"
      ],
      "metadata": {
        "colab": {
          "base_uri": "https://localhost:8080/"
        },
        "id": "VG3wub1MyeGi",
        "outputId": "31e2267a-9ee1-46d7-e095-dbfcb8cc14e1"
      },
      "execution_count": null,
      "outputs": [
        {
          "output_type": "stream",
          "name": "stdout",
          "text": [
            "Расчет медианы: 6.0\n",
            "Расчет медианы с помощью statistics.median(): 6.0\n",
            "Расчет медианы с помощью statistics.median_low: 2.5\n",
            "Расчет медианы с помощью statistics.median_high 6.0\n",
            "Расчет медианы с помощью np.median: 6.0\n"
          ]
        }
      ]
    },
    {
      "cell_type": "markdown",
      "source": [
        "9) Мода – это значение в наборе данных, которое встречается чаще всего.\n",
        "Если такого значения не существует, набор является мультимодальным,\n",
        "поскольку он имеет несколько модальных значений. Расчет моды представлен в\n",
        "программном коде:"
      ],
      "metadata": {
        "id": "e4Mi_O718iZ8"
      }
    },
    {
      "cell_type": "code",
      "source": [
        "u = [2, 3, 2, 8, 12]\n",
        "mode_ = max((u.count(item), item) for item in set(u))[1]\n",
        "print(f'Вычисление моды: {mode_}')\n",
        "\n",
        "mode_2 = statistics.mode(u)\n",
        "print(f'Вычисление моды с помощью statistics.mode(): {mode_2}')\n",
        "\n",
        "mode_3 = statistics.multimode(u)\n",
        "print(f'Вычисление моды с помощью statistics.multimode(): {mode_3}')\n",
        "\n",
        "mode_4 = scipy.stats.mode(u)\n",
        "print(f'Вычисление моды с помощью scipy.stats.mode(): {mode_4}')\n"
      ],
      "metadata": {
        "colab": {
          "base_uri": "https://localhost:8080/"
        },
        "id": "EagG7OfOytTb",
        "outputId": "6ae3d9b0-79c3-4c0d-ce5d-5056da0b6674"
      },
      "execution_count": null,
      "outputs": [
        {
          "output_type": "stream",
          "name": "stdout",
          "text": [
            "Вычисление моды: 2\n",
            "Вычисление моды с помощью statistics.mode(): 2\n",
            "Вычисление моды с помощью statistics.multimode(): [2]\n",
            "Вычисление моды с помощью scipy.stats.mode(): ModeResult(mode=2, count=2)\n"
          ]
        }
      ]
    },
    {
      "cell_type": "markdown",
      "source": [
        "10) Центральных метрик недостаточно для описания данных. Практически\n",
        "всегда необходимы метрики оценки вариативности данных, которые\n",
        "количественно определяют разброс точек данных. И первым показателем\n",
        "метрики оценки вариативности данных является дисперсия. Дисперсия\n",
        "количественно определяет разброс данных и численно показывает, как далеко\n",
        "расположены точки данных от среднего значения."
      ],
      "metadata": {
        "id": "5tbP1eT_8luV"
      }
    },
    {
      "cell_type": "code",
      "source": [
        "n = len(x)\n",
        "mean = sum(x) / n\n",
        "var_ = sum((item - mean)**2 for item in x) / (n - 1)\n",
        "print(f'Оценка дисперсии на чистом Python: {var_}')\n",
        "\n",
        "var_1 = statistics.variance(x)\n",
        "print(f'Оценка дисперсии с помощью statistics.variance(): {var_1}')\n",
        "\n",
        "# Выдаёт ошибку cannot convert NaN to integer ratio\n",
        "# statistics.variance(x_with_nan)\n",
        "# print(f'Оценка дисперсии с помощью statistics.variance(), где есть nan: {statistics.variance(x_with_nan)}')\n",
        "\n",
        "var_2 = np.var(y, ddof=1)\n",
        "print(f'Оценка дисперсии, используя NumPy с помощью np.var(): {var_2}')\n",
        "\n",
        "var_3 = y.var(ddof=1)\n",
        "print(f'Оценка дисперсии, используя NumPy с помощью метода .var(): {var_3}')"
      ],
      "metadata": {
        "colab": {
          "base_uri": "https://localhost:8080/"
        },
        "id": "qhs5IuLAy7a_",
        "outputId": "4a8a5099-4713-49bb-b5d3-74ea62c3535f"
      },
      "execution_count": null,
      "outputs": [
        {
          "output_type": "stream",
          "name": "stdout",
          "text": [
            "Оценка дисперсии на чистом Python: 94.04999999999998\n",
            "Оценка дисперсии с помощью statistics.variance(): 94.05\n",
            "Оценка дисперсии, используя NumPy с помощью np.var(): 94.04999999999998\n",
            "Оценка дисперсии, используя NumPy с помощью метода .var(): 94.04999999999998\n"
          ]
        }
      ]
    },
    {
      "cell_type": "markdown",
      "source": [
        "11) Рассчитаем среднеквадратичное отклонение. Стандартное отклонение\n",
        "выборки является еще одним показателем разброса данных. Он связан с\n",
        "оценкой дисперсии, поскольку стандартное отклонение есть положительным\n",
        "квадратный корень из оценки дисперсии. Стандартное отклонение часто более\n",
        "удобно, чем дисперсия, потому что имеет ту же размерность, что и данные.\n",
        "Расчет среднеквадратичного отклонения"
      ],
      "metadata": {
        "id": "dj4wT9lH8oyT"
      }
    },
    {
      "cell_type": "code",
      "source": [
        "# Среднеквадратичное отклонение\n",
        "\n",
        "std_ = var_ ** 0.5\n",
        "print(f'Расчет среднеквадратичного отклонения на чистом Python: {std_}')\n",
        "\n",
        "std_2 = statistics.stdev(x)\n",
        "print(f'Расчет среднеквадратичного отклонения с помощью statistics.stdev(): {std_2}')\n",
        "\n",
        "np.std(y, ddof=1)\n",
        "print(f'Расчет среднеквадратичного отклонения с помощью NumPy: {np.std(y, ddof=1)}')\n"
      ],
      "metadata": {
        "colab": {
          "base_uri": "https://localhost:8080/"
        },
        "id": "eZGeOma7zGom",
        "outputId": "4bbfbfe3-bd21-41e1-f93a-ca2623741326"
      },
      "execution_count": null,
      "outputs": [
        {
          "output_type": "stream",
          "name": "stdout",
          "text": [
            "Расчет среднеквадратичного отклонения на чистом Python: 9.697937925146768\n",
            "Расчет среднеквадратичного отклонения с помощью statistics.stdev(): 9.697937925146768\n",
            "Расчет среднеквадратичного отклонения с помощью NumPy: 9.697937925146768\n"
          ]
        }
      ]
    },
    {
      "cell_type": "markdown",
      "source": [
        "12) Найдем смещение:"
      ],
      "metadata": {
        "id": "lP-SGLYb8rpl"
      }
    },
    {
      "cell_type": "code",
      "source": [
        "# Смещение\n",
        "\n",
        "x = [8.0, 1, 2.5, 4, 28.0]\n",
        "n = len(x)\n",
        "\n",
        "mean_ = sum(x) / n\n",
        "var_ = sum((item - mean_)**2 for item in x) / (n - 1)\n",
        "std_ = var_ ** 0.5\n",
        "skew_ = (sum((item - mean_)**3 for item in x) * n / ((n - 1) * (n - 2) * std_**3))\n",
        "\n",
        "print(f'Расчет смещения на чистом Python: {skew_}')\n",
        "\n",
        "z, z_with_nan = pd.Series(x), pd.Series(x_with_nan)\n",
        "print(f'Расчет смещения с помощью Pandas: {z.skew()}')"
      ],
      "metadata": {
        "colab": {
          "base_uri": "https://localhost:8080/"
        },
        "id": "Bkermz887Dsi",
        "outputId": "3238d0cd-2e5d-4640-e5dc-fbed5e2e50d1"
      },
      "execution_count": null,
      "outputs": [
        {
          "output_type": "stream",
          "name": "stdout",
          "text": [
            "Расчет смещения на чистом Python: 1.9470432273905929\n",
            "Расчет смещения с помощью Pandas: 1.9470432273905924\n"
          ]
        }
      ]
    },
    {
      "cell_type": "markdown",
      "source": [
        "13) Процентиль – такой элемент в наборе данных, что p элементов в этом\n",
        "наборе данных меньше или равно его значению. Кроме того, (100 – p)\n",
        "элементов больше или равно этому значению. Если в наборе данных есть два\n",
        "таких элемента, то процентиль является их средним арифметическим.\n",
        "Расчитаем процентиль:\n"
      ],
      "metadata": {
        "id": "ftugRhHQ8ubL"
      }
    },
    {
      "cell_type": "code",
      "source": [
        "# Процентили\n",
        "\n",
        "x = [-5.0, -1.1, 0.1, 2.0, 8.0, 12.8, 21.0, 25.8, 41.0]\n",
        "\n",
        "#print(f'Расчет процентилей с помощью statistics.quantiles(): {statistics.quantiles(x, n=2)}')\n",
        "#statistics.quantiles(x, n=4, method='inclusive')\n",
        "#print(f\"Расчет процентилей с помощью statistics.quantiles(): {statistics.quantiles(x, n=4, method='inclusive')}\")\n",
        "\n",
        "y = np.array(x)\n",
        "np.percentile(y, 5)\n",
        "print(f'Нахождение 5 процентиля : {np.percentile(y, 5)}')\n",
        "\n",
        "np.percentile(y, 95)\n",
        "print(f'Нахождение 95 процентиля : {np.percentile(y, 95)}')\n",
        "\n",
        "z, z_with_nan = pd.Series(y), pd.Series(y_with_nan)\n",
        "z.quantile(0.05)\n",
        "print(f'Нахождение процентиля используя метод .quantile(): {z.quantile(0.05)}')\n"
      ],
      "metadata": {
        "colab": {
          "base_uri": "https://localhost:8080/"
        },
        "id": "2MYNUoBf7Odb",
        "outputId": "40cd43cb-7601-441a-8860-7f8507211b18"
      },
      "execution_count": null,
      "outputs": [
        {
          "output_type": "stream",
          "name": "stdout",
          "text": [
            "Нахождение 5 процентиля : -3.44\n",
            "Нахождение 95 процентиля : 34.919999999999995\n",
            "Нахождение процентиля используя метод .quantile(): -3.44\n"
          ]
        }
      ]
    },
    {
      "cell_type": "markdown",
      "source": [
        "14) Диапазон данных – это разница между максимальным и\n",
        "минимальным элементом в наборе данных. Эти показатели найдем с\n",
        "использованием функции np.ptp():"
      ],
      "metadata": {
        "id": "RHBrpRHa8xyc"
      }
    },
    {
      "cell_type": "code",
      "source": [
        "# Диапазон\n",
        "\n",
        "np.ptp(y)\n",
        "np.ptp(z)\n",
        "np.ptp(y_with_nan)\n",
        "np.ptp(z_with_nan)\n",
        "\n",
        "print(f'Нахождение диапазона с помощью функции np.ptp(): {np.ptp(y),np.ptp(z),np.ptp(y_with_nan),np.ptp(z_with_nan)}')"
      ],
      "metadata": {
        "colab": {
          "base_uri": "https://localhost:8080/"
        },
        "id": "dR2y0Dgp7b5B",
        "outputId": "06d89920-81fc-4633-b1e1-979dd8a813e6"
      },
      "execution_count": null,
      "outputs": [
        {
          "output_type": "stream",
          "name": "stdout",
          "text": [
            "Нахождение диапазона с помощью функции np.ptp(): (46.0, 46.0, nan, nan)\n"
          ]
        }
      ]
    },
    {
      "cell_type": "markdown",
      "source": [
        "15) сводка описательной статистики:"
      ],
      "metadata": {
        "id": "nKf9diwa80Qu"
      }
    },
    {
      "cell_type": "code",
      "source": [
        "# Сводка описательной статистики\n",
        "\n",
        "result = scipy.stats.describe(y, ddof=1, bias=False)\n",
        "print(f'Сводка описательной статистики с помощью scipy.stats.describe(): {result}')\n",
        "\n",
        "result2 = z.describe()\n",
        "print(f'Сводка описательной статистики с помощью метода .describe() в Pandas: {result2}')\n"
      ],
      "metadata": {
        "colab": {
          "base_uri": "https://localhost:8080/"
        },
        "id": "ptiX_IP97iR9",
        "outputId": "fe67580f-bb73-4c90-b7e9-abf4e2bd1164"
      },
      "execution_count": null,
      "outputs": [
        {
          "output_type": "stream",
          "name": "stdout",
          "text": [
            "Сводка описательной статистики с помощью scipy.stats.describe(): DescribeResult(nobs=9, minmax=(-5.0, 41.0), mean=11.622222222222222, variance=228.75194444444446, skewness=0.9249043136685094, kurtosis=0.14770623629658886)\n",
            "Сводка описательной статистики с помощью метода .describe() в Pandas: count     9.000000\n",
            "mean     11.622222\n",
            "std      15.124548\n",
            "min      -5.000000\n",
            "25%       0.100000\n",
            "50%       8.000000\n",
            "75%      21.000000\n",
            "max      41.000000\n",
            "dtype: float64\n"
          ]
        }
      ]
    }
  ]
}