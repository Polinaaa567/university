{
  "nbformat": 4,
  "nbformat_minor": 0,
  "metadata": {
    "colab": {
      "provenance": [],
      "authorship_tag": "ABX9TyNYIv+UEB/eC2Z11vKgsJFZ",
      "include_colab_link": true
    },
    "kernelspec": {
      "name": "python3",
      "display_name": "Python 3"
    },
    "language_info": {
      "name": "python"
    }
  },
  "cells": [
    {
      "cell_type": "markdown",
      "metadata": {
        "id": "view-in-github",
        "colab_type": "text"
      },
      "source": [
        "<a href=\"https://colab.research.google.com/github/Polinaaa567/university/blob/master/5_term/ML/Example/ML_example_pandas.ipynb\" target=\"_parent\"><img src=\"https://colab.research.google.com/assets/colab-badge.svg\" alt=\"Open In Colab\"/></a>"
      ]
    },
    {
      "cell_type": "code",
      "execution_count": null,
      "metadata": {
        "id": "RgTXtPi1nmv2"
      },
      "outputs": [],
      "source": [
        "import pandas as pd\n",
        "import numpy as np"
      ]
    },
    {
      "cell_type": "code",
      "source": [
        "# example 1\n",
        "\n",
        "s = pd.Series(np.arange(5), index=['a', 'b', 'c', 'd', 'e'])\n",
        "print(s)\n",
        "print()\n",
        "s = pd.Series(np.linspace(0, 1, 5))\n",
        "print(s)"
      ],
      "metadata": {
        "colab": {
          "base_uri": "https://localhost:8080/"
        },
        "id": "iUXXyezdo1il",
        "outputId": "566c032c-7ead-4907-c3ad-9317ae317a55"
      },
      "execution_count": null,
      "outputs": [
        {
          "output_type": "stream",
          "name": "stdout",
          "text": [
            "a    0\n",
            "b    1\n",
            "c    2\n",
            "d    3\n",
            "e    4\n",
            "dtype: int64\n",
            "\n",
            "0    0.00\n",
            "1    0.25\n",
            "2    0.50\n",
            "3    0.75\n",
            "4    1.00\n",
            "dtype: float64\n"
          ]
        }
      ]
    },
    {
      "cell_type": "code",
      "source": [
        "#  example 2\n",
        "\n",
        "d = {'a':10, 'b':20, 'c':30, 'g':40}\n",
        "print(pd.Series(d))\n",
        "print()\n",
        "print(pd.Series(d, index= ['a', 'b', 'c', 'd']))"
      ],
      "metadata": {
        "colab": {
          "base_uri": "https://localhost:8080/"
        },
        "id": "v3L8dmgRpg7z",
        "outputId": "688d8f76-24f8-45a7-d42b-c5ac80a50028"
      },
      "execution_count": null,
      "outputs": [
        {
          "output_type": "stream",
          "name": "stdout",
          "text": [
            "a    10\n",
            "b    20\n",
            "c    30\n",
            "g    40\n",
            "dtype: int64\n",
            "\n",
            "a    10.0\n",
            "b    20.0\n",
            "c    30.0\n",
            "d     NaN\n",
            "dtype: float64\n"
          ]
        }
      ]
    },
    {
      "cell_type": "code",
      "source": [
        "# example 3\n",
        "\n",
        "index = ['a', 'b', 'c']\n",
        "pd.Series(5, index=index)"
      ],
      "metadata": {
        "colab": {
          "base_uri": "https://localhost:8080/"
        },
        "id": "PC2wQ_HDqxDw",
        "outputId": "fc055f74-02aa-4ce8-caaf-c86968213a89"
      },
      "execution_count": null,
      "outputs": [
        {
          "output_type": "execute_result",
          "data": {
            "text/plain": [
              "a    5\n",
              "b    5\n",
              "c    5\n",
              "dtype: int64"
            ]
          },
          "metadata": {},
          "execution_count": 4
        }
      ]
    },
    {
      "cell_type": "code",
      "source": [
        "# example 4\n",
        "\n",
        "s = pd.Series(np.arange(5), index=['a', 'b', 'c', 'd', 'e'])\n",
        "print('Выбор одного элемента')\n",
        "print(s['a'])\n",
        "print('Выбор нескольких элементов')\n",
        "print(s[['a', 'b']])\n",
        "print('Срез')\n",
        "print(s[1:])\n",
        "print('Сложение')\n",
        "print(s + s)"
      ],
      "metadata": {
        "colab": {
          "base_uri": "https://localhost:8080/"
        },
        "id": "xy1SqoVLq9aC",
        "outputId": "50bbada4-b990-4699-c374-5269c9aaae22"
      },
      "execution_count": null,
      "outputs": [
        {
          "output_type": "stream",
          "name": "stdout",
          "text": [
            "Выбор одного элемента\n",
            "0\n",
            "Выбор нескольких элементов\n",
            "a    0\n",
            "b    1\n",
            "dtype: int64\n",
            "Срез\n",
            "b    1\n",
            "c    2\n",
            "d    3\n",
            "e    4\n",
            "dtype: int64\n",
            "Сложение\n",
            "a    0\n",
            "b    2\n",
            "c    4\n",
            "d    6\n",
            "e    8\n",
            "dtype: int64\n"
          ]
        }
      ]
    },
    {
      "cell_type": "code",
      "source": [
        "# example 5\n",
        "\n",
        "s = pd.Series(np.arange(5), index=['a', 'b', 'c', 'd', 'e'])\n",
        "s.name = 'Данные'\n",
        "s.index.name = 'Индексы'\n",
        "print(s)"
      ],
      "metadata": {
        "colab": {
          "base_uri": "https://localhost:8080/"
        },
        "id": "-rTtrGtNrlmZ",
        "outputId": "eab691ea-3f0a-48fa-8a0c-1111adb903e6"
      },
      "execution_count": null,
      "outputs": [
        {
          "output_type": "stream",
          "name": "stdout",
          "text": [
            "Индексы\n",
            "a    0\n",
            "b    1\n",
            "c    2\n",
            "d    3\n",
            "e    4\n",
            "Name: Данные, dtype: int64\n"
          ]
        }
      ]
    },
    {
      "cell_type": "code",
      "source": [
        "# example 6\n",
        "\n",
        "stud = {'students': [ 'Gav', 'Kva', 'Muu'],\n",
        "        'math':[3, 4, 5],\n",
        "        'history':[2, 2, 2]}\n",
        "students = pd.DataFrame(stud)\n",
        "print(students)"
      ],
      "metadata": {
        "colab": {
          "base_uri": "https://localhost:8080/"
        },
        "id": "RqSf1grpsHnE",
        "outputId": "88b425b1-c641-4bfd-b6b2-51bb52317292"
      },
      "execution_count": null,
      "outputs": [
        {
          "output_type": "stream",
          "name": "stdout",
          "text": [
            "  students  math  history\n",
            "0      Gav     3        2\n",
            "1      Kva     4        2\n",
            "2      Muu     5        2\n"
          ]
        }
      ]
    }
  ]
}